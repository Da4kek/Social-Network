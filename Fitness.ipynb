{
 "cells": [
  {
   "cell_type": "code",
   "execution_count": 1,
   "metadata": {},
   "outputs": [],
   "source": [
    "import networkx as nx \n",
    "import pandas as pd \n",
    "import matplotlib.pyplot as plt\n",
    "import numpy as np "
   ]
  },
  {
   "cell_type": "code",
   "execution_count": 2,
   "metadata": {},
   "outputs": [
    {
     "data": {
      "text/html": [
       "<div>\n",
       "<style scoped>\n",
       "    .dataframe tbody tr th:only-of-type {\n",
       "        vertical-align: middle;\n",
       "    }\n",
       "\n",
       "    .dataframe tbody tr th {\n",
       "        vertical-align: top;\n",
       "    }\n",
       "\n",
       "    .dataframe thead th {\n",
       "        text-align: right;\n",
       "    }\n",
       "</style>\n",
       "<table border=\"1\" class=\"dataframe\">\n",
       "  <thead>\n",
       "    <tr style=\"text-align: right;\">\n",
       "      <th></th>\n",
       "      <th>0</th>\n",
       "      <th>1</th>\n",
       "    </tr>\n",
       "  </thead>\n",
       "  <tbody>\n",
       "    <tr>\n",
       "      <th>0</th>\n",
       "      <td>0</td>\n",
       "      <td>2</td>\n",
       "    </tr>\n",
       "    <tr>\n",
       "      <th>1</th>\n",
       "      <td>0</td>\n",
       "      <td>3</td>\n",
       "    </tr>\n",
       "    <tr>\n",
       "      <th>2</th>\n",
       "      <td>0</td>\n",
       "      <td>4</td>\n",
       "    </tr>\n",
       "    <tr>\n",
       "      <th>3</th>\n",
       "      <td>0</td>\n",
       "      <td>5</td>\n",
       "    </tr>\n",
       "    <tr>\n",
       "      <th>4</th>\n",
       "      <td>0</td>\n",
       "      <td>6</td>\n",
       "    </tr>\n",
       "  </tbody>\n",
       "</table>\n",
       "</div>"
      ],
      "text/plain": [
       "   0  1\n",
       "0  0  2\n",
       "1  0  3\n",
       "2  0  4\n",
       "3  0  5\n",
       "4  0  6"
      ]
     },
     "execution_count": 2,
     "metadata": {},
     "output_type": "execute_result"
    }
   ],
   "source": [
    "columns = ['0','1']\n",
    "data = pd.read_csv(\"Data/facebook_combined.txt\",sep=' ')\n",
    "data.head()"
   ]
  },
  {
   "cell_type": "code",
   "execution_count": 3,
   "metadata": {},
   "outputs": [],
   "source": [
    "G1 = nx.read_edgelist(\"Data/facebook_combined.txt\",create_using=nx.DiGraph(),nodetype=int)"
   ]
  },
  {
   "cell_type": "code",
   "execution_count": 4,
   "metadata": {},
   "outputs": [],
   "source": [
    "Nodes = np.array(G1.nodes)\n",
    "Edges = np.array(G1.edges)"
   ]
  },
  {
   "cell_type": "code",
   "execution_count": 5,
   "metadata": {},
   "outputs": [],
   "source": [
    "Out_degree = dict(G1.out_degree(Nodes))\n",
    "In_degree = dict(G1.in_degree(Nodes))"
   ]
  },
  {
   "cell_type": "code",
   "execution_count": 6,
   "metadata": {},
   "outputs": [
    {
     "name": "stdout",
     "output_type": "stream",
     "text": [
      "Node: 107 \n",
      "Degree: 1043\n"
     ]
    }
   ],
   "source": [
    "max_out_degree = max(zip(Out_degree.values(),Out_degree.keys()))\n",
    "print(f\"Node: {max_out_degree[1]} \\nDegree: {max_out_degree[0]}\")"
   ]
  },
  {
   "cell_type": "code",
   "execution_count": 7,
   "metadata": {},
   "outputs": [
    {
     "name": "stdout",
     "output_type": "stream",
     "text": [
      "Node: 1888 \n",
      "Degree: 251\n"
     ]
    }
   ],
   "source": [
    "max_in_degree = max(zip(In_degree.values(),In_degree.keys()))\n",
    "print(f\"Node: {max_in_degree[1]} \\nDegree: {max_in_degree[0]}\")"
   ]
  },
  {
   "cell_type": "code",
   "execution_count": 8,
   "metadata": {},
   "outputs": [
    {
     "data": {
      "text/plain": [
       "1.8314599024747603e-06"
      ]
     },
     "execution_count": 8,
     "metadata": {},
     "output_type": "execute_result"
    }
   ],
   "source": [
    "sample_node = 107\n",
    "In_degree[107]/(In_degree[107]+Out_degree[107])**2"
   ]
  },
  {
   "cell_type": "code",
   "execution_count": 9,
   "metadata": {},
   "outputs": [
    {
     "data": {
      "text/html": [
       "<div>\n",
       "<style scoped>\n",
       "    .dataframe tbody tr th:only-of-type {\n",
       "        vertical-align: middle;\n",
       "    }\n",
       "\n",
       "    .dataframe tbody tr th {\n",
       "        vertical-align: top;\n",
       "    }\n",
       "\n",
       "    .dataframe thead th {\n",
       "        text-align: right;\n",
       "    }\n",
       "</style>\n",
       "<table border=\"1\" class=\"dataframe\">\n",
       "  <thead>\n",
       "    <tr style=\"text-align: right;\">\n",
       "      <th></th>\n",
       "      <th>Nodes</th>\n",
       "      <th>Fitness</th>\n",
       "      <th>Edges</th>\n",
       "    </tr>\n",
       "  </thead>\n",
       "  <tbody>\n",
       "    <tr>\n",
       "      <th>0</th>\n",
       "      <td>0</td>\n",
       "      <td>0.00000</td>\n",
       "      <td>((0, 1), (0, 2), (0, 3), (0, 4), (0, 5), (0, 6...</td>\n",
       "    </tr>\n",
       "    <tr>\n",
       "      <th>1</th>\n",
       "      <td>1</td>\n",
       "      <td>0.00346</td>\n",
       "      <td>((1, 48), (1, 53), (1, 54), (1, 73), (1, 88), ...</td>\n",
       "    </tr>\n",
       "    <tr>\n",
       "      <th>2</th>\n",
       "      <td>2</td>\n",
       "      <td>0.01000</td>\n",
       "      <td>((2, 20), (2, 115), (2, 116), (2, 149), (2, 22...</td>\n",
       "    </tr>\n",
       "    <tr>\n",
       "      <th>3</th>\n",
       "      <td>3</td>\n",
       "      <td>0.00346</td>\n",
       "      <td>((3, 9), (3, 25), (3, 26), (3, 67), (3, 72), (...</td>\n",
       "    </tr>\n",
       "    <tr>\n",
       "      <th>4</th>\n",
       "      <td>4</td>\n",
       "      <td>0.01000</td>\n",
       "      <td>((4, 78), (4, 152), (4, 181), (4, 195), (4, 21...</td>\n",
       "    </tr>\n",
       "  </tbody>\n",
       "</table>\n",
       "</div>"
      ],
      "text/plain": [
       "   Nodes  Fitness                                              Edges\n",
       "0      0  0.00000  ((0, 1), (0, 2), (0, 3), (0, 4), (0, 5), (0, 6...\n",
       "1      1  0.00346  ((1, 48), (1, 53), (1, 54), (1, 73), (1, 88), ...\n",
       "2      2  0.01000  ((2, 20), (2, 115), (2, 116), (2, 149), (2, 22...\n",
       "3      3  0.00346  ((3, 9), (3, 25), (3, 26), (3, 67), (3, 72), (...\n",
       "4      4  0.01000  ((4, 78), (4, 152), (4, 181), (4, 195), (4, 21..."
      ]
     },
     "execution_count": 9,
     "metadata": {},
     "output_type": "execute_result"
    }
   ],
   "source": [
    "from sources.Fitness import FitnessFunc\n",
    "seed_nodes = pd.DataFrame(columns=['Nodes','Fitness',\"Edges\"])\n",
    "Nodes_= FitnessFunc(In_degree,Out_degree,G1)[0]\n",
    "Fitness_ = FitnessFunc(In_degree,Out_degree,G1)[1]\n",
    "Edges_ = FitnessFunc(In_degree,Out_degree,G1)[2]\n",
    "seed_nodes[\"Nodes\"] = Nodes_\n",
    "seed_nodes['Fitness'] = Fitness_\n",
    "seed_nodes['Edges'] = Edges_\n",
    "seed_nodes.head()"
   ]
  },
  {
   "cell_type": "code",
   "execution_count": 20,
   "metadata": {},
   "outputs": [],
   "source": [
    "seed_nodes = seed_nodes[seed_nodes['Edges'].map(lambda d: len(d))>0]"
   ]
  },
  {
   "cell_type": "code",
   "execution_count": 22,
   "metadata": {},
   "outputs": [
    {
     "data": {
      "text/html": [
       "<div>\n",
       "<style scoped>\n",
       "    .dataframe tbody tr th:only-of-type {\n",
       "        vertical-align: middle;\n",
       "    }\n",
       "\n",
       "    .dataframe tbody tr th {\n",
       "        vertical-align: top;\n",
       "    }\n",
       "\n",
       "    .dataframe thead th {\n",
       "        text-align: right;\n",
       "    }\n",
       "</style>\n",
       "<table border=\"1\" class=\"dataframe\">\n",
       "  <thead>\n",
       "    <tr style=\"text-align: right;\">\n",
       "      <th></th>\n",
       "      <th>Nodes</th>\n",
       "      <th>Fitness</th>\n",
       "      <th>Edges</th>\n",
       "    </tr>\n",
       "  </thead>\n",
       "  <tbody>\n",
       "    <tr>\n",
       "      <th>0</th>\n",
       "      <td>0</td>\n",
       "      <td>0.000000</td>\n",
       "      <td>((0, 1), (0, 2), (0, 3), (0, 4), (0, 5), (0, 6...</td>\n",
       "    </tr>\n",
       "    <tr>\n",
       "      <th>1831</th>\n",
       "      <td>686</td>\n",
       "      <td>0.000000</td>\n",
       "      <td>((686, 687), (686, 688), (686, 689), (686, 690...</td>\n",
       "    </tr>\n",
       "    <tr>\n",
       "      <th>107</th>\n",
       "      <td>107</td>\n",
       "      <td>0.000002</td>\n",
       "      <td>((107, 171), (107, 348), (107, 353), (107, 363...</td>\n",
       "    </tr>\n",
       "    <tr>\n",
       "      <th>352</th>\n",
       "      <td>1912</td>\n",
       "      <td>0.000012</td>\n",
       "      <td>((1912, 1913), (1912, 1914), (1912, 1915), (19...</td>\n",
       "    </tr>\n",
       "    <tr>\n",
       "      <th>1821</th>\n",
       "      <td>3437</td>\n",
       "      <td>0.000017</td>\n",
       "      <td>((3437, 3438), (3437, 3439), (3437, 3440), (34...</td>\n",
       "    </tr>\n",
       "    <tr>\n",
       "      <th>...</th>\n",
       "      <td>...</td>\n",
       "      <td>...</td>\n",
       "      <td>...</td>\n",
       "    </tr>\n",
       "    <tr>\n",
       "      <th>160</th>\n",
       "      <td>160</td>\n",
       "      <td>0.250000</td>\n",
       "      <td>((160, 260))</td>\n",
       "    </tr>\n",
       "    <tr>\n",
       "      <th>154</th>\n",
       "      <td>154</td>\n",
       "      <td>0.250000</td>\n",
       "      <td>((154, 219))</td>\n",
       "    </tr>\n",
       "    <tr>\n",
       "      <th>153</th>\n",
       "      <td>153</td>\n",
       "      <td>0.250000</td>\n",
       "      <td>((153, 280))</td>\n",
       "    </tr>\n",
       "    <tr>\n",
       "      <th>1746</th>\n",
       "      <td>581</td>\n",
       "      <td>0.250000</td>\n",
       "      <td>((581, 642))</td>\n",
       "    </tr>\n",
       "    <tr>\n",
       "      <th>2005</th>\n",
       "      <td>859</td>\n",
       "      <td>0.250000</td>\n",
       "      <td>((859, 885))</td>\n",
       "    </tr>\n",
       "  </tbody>\n",
       "</table>\n",
       "<p>3663 rows × 3 columns</p>\n",
       "</div>"
      ],
      "text/plain": [
       "      Nodes   Fitness                                              Edges\n",
       "0         0  0.000000  ((0, 1), (0, 2), (0, 3), (0, 4), (0, 5), (0, 6...\n",
       "1831    686  0.000000  ((686, 687), (686, 688), (686, 689), (686, 690...\n",
       "107     107  0.000002  ((107, 171), (107, 348), (107, 353), (107, 363...\n",
       "352    1912  0.000012  ((1912, 1913), (1912, 1914), (1912, 1915), (19...\n",
       "1821   3437  0.000017  ((3437, 3438), (3437, 3439), (3437, 3440), (34...\n",
       "...     ...       ...                                                ...\n",
       "160     160  0.250000                                       ((160, 260))\n",
       "154     154  0.250000                                       ((154, 219))\n",
       "153     153  0.250000                                       ((153, 280))\n",
       "1746    581  0.250000                                       ((581, 642))\n",
       "2005    859  0.250000                                       ((859, 885))\n",
       "\n",
       "[3663 rows x 3 columns]"
      ]
     },
     "execution_count": 22,
     "metadata": {},
     "output_type": "execute_result"
    }
   ],
   "source": [
    "seed_nodes.sort_values('Fitness',ascending=True)"
   ]
  },
  {
   "cell_type": "code",
   "execution_count": 37,
   "metadata": {},
   "outputs": [
    {
     "data": {
      "text/plain": [
       "(1.0, 10.0)"
      ]
     },
     "execution_count": 37,
     "metadata": {},
     "output_type": "execute_result"
    },
    {
     "data": {
      "image/png": "[encoded data removed]",
      "text/plain": [
       "<Figure size 640x480 with 1 Axes>"
      ]
     },
     "metadata": {},
     "output_type": "display_data"
    }
   ],
   "source": [
    "plt.plot(seed_nodes['Edges'].str.len(),seed_nodes['Fitness'],\"*\")\n",
    "plt.xlabel(\"edges length\")\n",
    "plt.ylabel(\"fitness\")\n",
    "plt.xlim([1,10])"
   ]
  },
  {
   "cell_type": "code",
   "execution_count": null,
   "metadata": {},
   "outputs": [],
   "source": []
  },
  {
   "cell_type": "code",
   "execution_count": null,
   "metadata": {},
   "outputs": [],
   "source": []
  }
 ],
 "metadata": {
  "kernelspec": {
   "display_name": "test_env",
   "language": "python",
   "name": "python3"
  },
  "language_info": {
   "codemirror_mode": {
    "name": "ipython",
    "version": 3
   },
   "file_extension": ".py",
   "mimetype": "text/x-python",
   "name": "python",
   "nbconvert_exporter": "python",
   "pygments_lexer": "ipython3",
   "version": "3.7.16"
  },
  "orig_nbformat": 4
 },
 "nbformat": 4,
 "nbformat_minor": 2
}
