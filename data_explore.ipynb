{
 "cells": [
  {
   "cell_type": "code",
   "execution_count": 22,
   "metadata": {},
   "outputs": [
    {
     "name": "stdout",
     "output_type": "stream",
     "text": [
      "Files:\n",
      "\n",
      "nodeId.edges : The edges in the ego network for the node 'nodeId'. Edges are undirected for facebook, and directed (a follows b) for twitter and gplus. The 'ego' node does not appear, but it is assumed that they follow every node id that appears in this file.\n",
      "\n",
      "nodeId.circles : The set of circles for the ego node. Each line contains one circle, consisting of a series of node ids. The first entry in each line is the name of the circle.\n",
      "\n",
      "nodeId.feat : The features for each of the nodes that appears in the edge file.\n",
      "\n",
      "nodeId.egofeat : The features for the ego user.\n",
      "\n",
      "nodeId.featnames : The names of each of the feature dimensions. Features are '1' if the user has this property in their profile, and '0' otherwise. This file has been anonymized for facebook users, since the names of the features would reveal private data.\n",
      "\n"
     ]
    }
   ],
   "source": [
    "with open(\"readme-Ego.txt\") as f:\n",
    "    print(f.read())"
   ]
  },
  {
   "cell_type": "code",
   "execution_count": 1,
   "metadata": {},
   "outputs": [],
   "source": [
    "import snap\n",
    "Graph = snap.LoadEdgeList(snap.PNGraph,\"facebook_combined.txt\",0,1)"
   ]
  },
  {
   "cell_type": "code",
   "execution_count": 3,
   "metadata": {},
   "outputs": [
    {
     "name": "stdout",
     "output_type": "stream",
     "text": [
      "4038\t9\n"
     ]
    }
   ],
   "source": [
    "for node in Graph.Nodes():\n",
    "    x = str(node.GetId())+'\\t'+str(node.GetInDeg())\n",
    "print(x)"
   ]
  },
  {
   "cell_type": "code",
   "execution_count": 13,
   "metadata": {},
   "outputs": [],
   "source": [
    "import pandas as pd \n",
    "import matplotlib.pyplot as plt\n",
    "import numpy as np\n",
    "%matplotlib inline"
   ]
  },
  {
   "cell_type": "code",
   "execution_count": 7,
   "metadata": {},
   "outputs": [],
   "source": [
    "columns = [\"edges\",\"circles\",\"feat\",\"egofeat\",\"featnames\"]\n",
    "dataframe = pd.DataFrame(columns=columns)"
   ]
  },
  {
   "cell_type": "code",
   "execution_count": 8,
   "metadata": {},
   "outputs": [
    {
     "name": "stdout",
     "output_type": "stream",
     "text": [
      "50\n"
     ]
    }
   ],
   "source": [
    "import os \n",
    "print(len(os.listdir(\"facebook\")))"
   ]
  },
  {
   "cell_type": "code",
   "execution_count": 16,
   "metadata": {},
   "outputs": [
    {
     "name": "stdout",
     "output_type": "stream",
     "text": [
      "no of edges:  10\n",
      "no of circles:  10\n",
      "no of features:  10\n",
      "no of ego features:  10\n",
      "no of feature names:  10\n"
     ]
    }
   ],
   "source": [
    "import glob\n",
    "files = \"facebook\"\n",
    "print(\"no of edges: \",len(glob.glob1(files,\"*.edges\")))\n",
    "print(\"no of circles: \",len(glob.glob1(files,\"*.circles\")))\n",
    "print(\"no of features: \",len(glob.glob1(files,\"*.feat\")))\n",
    "print(\"no of ego features: \",len(glob.glob1(files,\"*.egofeat\")))\n",
    "print(\"no of feature names: \",len(glob.glob1(files,\"*.featnames\")))"
   ]
  },
  {
   "cell_type": "code",
   "execution_count": 30,
   "metadata": {},
   "outputs": [
    {
     "name": "stdout",
     "output_type": "stream",
     "text": [
      "['facebook/414.edges', 'facebook/107.edges', 'facebook/348.edges', 'facebook/0.edges', 'facebook/3437.edges', 'facebook/1684.edges', 'facebook/686.edges', 'facebook/698.edges', 'facebook/3980.edges', 'facebook/1912.edges']\n"
     ]
    }
   ],
   "source": [
    "edges = []\n",
    "for i in range(0,10):\n",
    "    edges.append(os.path.join(files,glob.glob1(files,\"*.edges\")[i]))\n",
    "print(edges)"
   ]
  },
  {
   "cell_type": "code",
   "execution_count": 33,
   "metadata": {},
   "outputs": [],
   "source": [
    "def get_circle_labels(G,circles):\n",
    "    circle_labels = []\n",
    "    for node in G.nodes():\n",
    "        is_added = False \n",
    "        for i,j in enumerate(list(circles.values())):\n",
    "            if node in j and not is_added:\n",
    "                circle_labels.append(i)\n",
    "                is_added = True \n",
    "        if not is_added:\n",
    "            circle_labels.append(-1)\n",
    "    return circle_labels"
   ]
  },
  {
   "cell_type": "code",
   "execution_count": 34,
   "metadata": {},
   "outputs": [],
   "source": [
    "import networkx as nx \n",
    "from networkx.algorithms import approximation\n",
    "G = nx.read_edgelist(\"facebook/0.edges\",nodetype=int)"
   ]
  },
  {
   "cell_type": "code",
   "execution_count": 35,
   "metadata": {},
   "outputs": [],
   "source": [
    "def read_circle(file_path):\n",
    "    with open(file_path) as file:\n",
    "        content = file.readlines()\n",
    "        content = [line.replace(\"\\n\",\"\") for line in content]\n",
    "        content = [line.split(\"\\t\") for line in content]\n",
    "    return {circle[0]:list(map(int,circle[1:])) for circle in content}"
   ]
  },
  {
   "cell_type": "code",
   "execution_count": 36,
   "metadata": {},
   "outputs": [],
   "source": [
    "circles = read_circle(\"facebook/0.circles\")"
   ]
  },
  {
   "cell_type": "code",
   "execution_count": 42,
   "metadata": {},
   "outputs": [],
   "source": [
    "from sklearn.metrics.pairwise import cosine_similarity\n",
    "from node2vec import Node2Vec\n",
    "def node2vec_graph(G,D):\n",
    "    node2vec_ = Node2Vec(G,dimensions=D)\n",
    "    model = node2vec_.fit()\n",
    "    embeddings = model.wv.vectors \n",
    "    return embeddings"
   ]
  },
  {
   "cell_type": "code",
   "execution_count": 46,
   "metadata": {},
   "outputs": [
    {
     "name": "stdout",
     "output_type": "stream",
     "text": [
      "24\n"
     ]
    }
   ],
   "source": [
    "print(len(circles.keys()))"
   ]
  },
  {
   "cell_type": "code",
   "execution_count": 47,
   "metadata": {},
   "outputs": [
    {
     "data": {
      "application/vnd.jupyter.widget-view+json": {
       "model_id": "8765b7e230eb410897d4bab4d8268bce",
       "version_major": 2,
       "version_minor": 0
      },
      "text/plain": [
       "Computing transition probabilities:   0%|          | 0/333 [00:00<?, ?it/s]"
      ]
     },
     "metadata": {},
     "output_type": "display_data"
    },
    {
     "name": "stderr",
     "output_type": "stream",
     "text": [
      "Generating walks (CPU: 1): 100%|██████████| 10/10 [00:07<00:00,  1.28it/s]\n"
     ]
    }
   ],
   "source": [
    "embeddings = node2vec_graph(G,24)"
   ]
  },
  {
   "cell_type": "code",
   "execution_count": 49,
   "metadata": {},
   "outputs": [
    {
     "name": "stdout",
     "output_type": "stream",
     "text": [
      "333\n"
     ]
    }
   ],
   "source": [
    "print(len(embeddings))"
   ]
  },
  {
   "cell_type": "code",
   "execution_count": 54,
   "metadata": {},
   "outputs": [
    {
     "data": {
      "text/plain": [
       "(333, 333)"
      ]
     },
     "execution_count": 54,
     "metadata": {},
     "output_type": "execute_result"
    }
   ],
   "source": [
    "cosine_similarity(embeddings,embeddings).shape"
   ]
  },
  {
   "cell_type": "code",
   "execution_count": 59,
   "metadata": {},
   "outputs": [
    {
     "data": {
      "text/html": [
       "<div>\n",
       "<style scoped>\n",
       "    .dataframe tbody tr th:only-of-type {\n",
       "        vertical-align: middle;\n",
       "    }\n",
       "\n",
       "    .dataframe tbody tr th {\n",
       "        vertical-align: top;\n",
       "    }\n",
       "\n",
       "    .dataframe thead th {\n",
       "        text-align: right;\n",
       "    }\n",
       "</style>\n",
       "<table border=\"1\" class=\"dataframe\">\n",
       "  <thead>\n",
       "    <tr style=\"text-align: right;\">\n",
       "      <th></th>\n",
       "      <th>node1</th>\n",
       "      <th>node2</th>\n",
       "    </tr>\n",
       "  </thead>\n",
       "  <tbody>\n",
       "    <tr>\n",
       "      <th>0</th>\n",
       "      <td>0</td>\n",
       "      <td>1</td>\n",
       "    </tr>\n",
       "    <tr>\n",
       "      <th>1</th>\n",
       "      <td>0</td>\n",
       "      <td>2</td>\n",
       "    </tr>\n",
       "    <tr>\n",
       "      <th>2</th>\n",
       "      <td>0</td>\n",
       "      <td>3</td>\n",
       "    </tr>\n",
       "    <tr>\n",
       "      <th>3</th>\n",
       "      <td>0</td>\n",
       "      <td>4</td>\n",
       "    </tr>\n",
       "    <tr>\n",
       "      <th>4</th>\n",
       "      <td>0</td>\n",
       "      <td>5</td>\n",
       "    </tr>\n",
       "  </tbody>\n",
       "</table>\n",
       "</div>"
      ],
      "text/plain": [
       "   node1  node2\n",
       "0      0      1\n",
       "1      0      2\n",
       "2      0      3\n",
       "3      0      4\n",
       "4      0      5"
      ]
     },
     "execution_count": 59,
     "metadata": {},
     "output_type": "execute_result"
    }
   ],
   "source": [
    "df = pd.read_csv(\"facebook_combined.txt\",sep=\" \")\n",
    "df.head()"
   ]
  },
  {
   "cell_type": "code",
   "execution_count": 60,
   "metadata": {},
   "outputs": [],
   "source": [
    "G = nx.from_pandas_edgelist(df,source=\"node1\",target=\"node2\")"
   ]
  },
  {
   "cell_type": "code",
   "execution_count": 64,
   "metadata": {},
   "outputs": [
    {
     "name": "stdout",
     "output_type": "stream",
     "text": [
      "4039\n",
      "88234\n"
     ]
    }
   ],
   "source": [
    "print(G.number_of_nodes())\n",
    "print(G.number_of_edges())"
   ]
  },
  {
   "cell_type": "code",
   "execution_count": 66,
   "metadata": {},
   "outputs": [
    {
     "name": "stdout",
     "output_type": "stream",
     "text": [
      "88234\n"
     ]
    }
   ],
   "source": [
    "edge_list = list(zip(df['node1'],df['node2']))\n",
    "print(len(edge_list))"
   ]
  },
  {
   "cell_type": "code",
   "execution_count": 68,
   "metadata": {},
   "outputs": [
    {
     "data": {
      "text/plain": [
       "(88234, 4039)"
      ]
     },
     "execution_count": 68,
     "metadata": {},
     "output_type": "execute_result"
    }
   ],
   "source": [
    "KG = nx.Graph(edge_list)\n",
    "KG.number_of_edges(),KG.number_of_nodes()"
   ]
  },
  {
   "cell_type": "code",
   "execution_count": 70,
   "metadata": {},
   "outputs": [
    {
     "data": {
      "application/vnd.jupyter.widget-view+json": {
       "model_id": "f2860f409e5242e3a380e9854aff7058",
       "version_major": 2,
       "version_minor": 0
      },
      "text/plain": [
       "Computing transition probabilities:   0%|          | 0/4039 [00:00<?, ?it/s]"
      ]
     },
     "metadata": {},
     "output_type": "display_data"
    },
    {
     "name": "stderr",
     "output_type": "stream",
     "text": [
      "Generating walks (CPU: 1): 100%|██████████| 10/10 [00:05<00:00,  1.79it/s]\n"
     ]
    }
   ],
   "source": [
    "n2v_obj = Node2Vec(KG,dimensions=64,walk_length=5,num_walks=10,p=1,q=1,workers=1)\n",
    "model = n2v_obj.fit(window=10,min_count=1,batch_words=4)"
   ]
  },
  {
   "cell_type": "code",
   "execution_count": 73,
   "metadata": {},
   "outputs": [
    {
     "data": {
      "text/html": [
       "<div>\n",
       "<style scoped>\n",
       "    .dataframe tbody tr th:only-of-type {\n",
       "        vertical-align: middle;\n",
       "    }\n",
       "\n",
       "    .dataframe tbody tr th {\n",
       "        vertical-align: top;\n",
       "    }\n",
       "\n",
       "    .dataframe thead th {\n",
       "        text-align: right;\n",
       "    }\n",
       "</style>\n",
       "<table border=\"1\" class=\"dataframe\">\n",
       "  <thead>\n",
       "    <tr style=\"text-align: right;\">\n",
       "      <th></th>\n",
       "      <th>0</th>\n",
       "      <th>1</th>\n",
       "      <th>2</th>\n",
       "      <th>3</th>\n",
       "      <th>4</th>\n",
       "      <th>5</th>\n",
       "      <th>6</th>\n",
       "      <th>7</th>\n",
       "      <th>8</th>\n",
       "      <th>9</th>\n",
       "      <th>...</th>\n",
       "      <th>54</th>\n",
       "      <th>55</th>\n",
       "      <th>56</th>\n",
       "      <th>57</th>\n",
       "      <th>58</th>\n",
       "      <th>59</th>\n",
       "      <th>60</th>\n",
       "      <th>61</th>\n",
       "      <th>62</th>\n",
       "      <th>63</th>\n",
       "    </tr>\n",
       "  </thead>\n",
       "  <tbody>\n",
       "    <tr>\n",
       "      <th>0</th>\n",
       "      <td>0.109941</td>\n",
       "      <td>0.11437</td>\n",
       "      <td>0.260207</td>\n",
       "      <td>-0.204787</td>\n",
       "      <td>-0.033026</td>\n",
       "      <td>-0.309398</td>\n",
       "      <td>-0.127483</td>\n",
       "      <td>-0.016349</td>\n",
       "      <td>-0.269928</td>\n",
       "      <td>-0.107301</td>\n",
       "      <td>...</td>\n",
       "      <td>0.345343</td>\n",
       "      <td>-0.02656</td>\n",
       "      <td>-0.332942</td>\n",
       "      <td>-0.490678</td>\n",
       "      <td>-0.06564</td>\n",
       "      <td>0.132676</td>\n",
       "      <td>-0.239566</td>\n",
       "      <td>-0.350931</td>\n",
       "      <td>-0.200073</td>\n",
       "      <td>-0.161932</td>\n",
       "    </tr>\n",
       "  </tbody>\n",
       "</table>\n",
       "<p>1 rows × 64 columns</p>\n",
       "</div>"
      ],
      "text/plain": [
       "         0        1         2         3         4         5         6   \\\n",
       "0  0.109941  0.11437  0.260207 -0.204787 -0.033026 -0.309398 -0.127483   \n",
       "\n",
       "         7         8         9   ...        54       55        56        57  \\\n",
       "0 -0.016349 -0.269928 -0.107301  ...  0.345343 -0.02656 -0.332942 -0.490678   \n",
       "\n",
       "        58        59        60        61        62        63  \n",
       "0 -0.06564  0.132676 -0.239566 -0.350931 -0.200073 -0.161932  \n",
       "\n",
       "[1 rows x 64 columns]"
      ]
     },
     "execution_count": 73,
     "metadata": {},
     "output_type": "execute_result"
    }
   ],
   "source": [
    "pd.DataFrame(model.wv.get_vector(\"1\")).T"
   ]
  },
  {
   "cell_type": "code",
   "execution_count": 74,
   "metadata": {},
   "outputs": [],
   "source": [
    "node_list = df.node1.unique()\n",
    "node_str = []\n",
    "for n in node_list:\n",
    "    node_str.append(str(n))"
   ]
  },
  {
   "cell_type": "code",
   "execution_count": 75,
   "metadata": {},
   "outputs": [
    {
     "data": {
      "text/html": [
       "<div>\n",
       "<style scoped>\n",
       "    .dataframe tbody tr th:only-of-type {\n",
       "        vertical-align: middle;\n",
       "    }\n",
       "\n",
       "    .dataframe tbody tr th {\n",
       "        vertical-align: top;\n",
       "    }\n",
       "\n",
       "    .dataframe thead th {\n",
       "        text-align: right;\n",
       "    }\n",
       "</style>\n",
       "<table border=\"1\" class=\"dataframe\">\n",
       "  <thead>\n",
       "    <tr style=\"text-align: right;\">\n",
       "      <th></th>\n",
       "      <th>0</th>\n",
       "      <th>1</th>\n",
       "      <th>2</th>\n",
       "      <th>3</th>\n",
       "      <th>4</th>\n",
       "      <th>5</th>\n",
       "      <th>6</th>\n",
       "      <th>7</th>\n",
       "      <th>8</th>\n",
       "      <th>9</th>\n",
       "      <th>...</th>\n",
       "      <th>54</th>\n",
       "      <th>55</th>\n",
       "      <th>56</th>\n",
       "      <th>57</th>\n",
       "      <th>58</th>\n",
       "      <th>59</th>\n",
       "      <th>60</th>\n",
       "      <th>61</th>\n",
       "      <th>62</th>\n",
       "      <th>63</th>\n",
       "    </tr>\n",
       "  </thead>\n",
       "  <tbody>\n",
       "    <tr>\n",
       "      <th>0</th>\n",
       "      <td>-0.141577</td>\n",
       "      <td>0.422342</td>\n",
       "      <td>0.741319</td>\n",
       "      <td>0.062844</td>\n",
       "      <td>-0.414088</td>\n",
       "      <td>-0.755713</td>\n",
       "      <td>-0.444874</td>\n",
       "      <td>0.453469</td>\n",
       "      <td>-0.451458</td>\n",
       "      <td>0.068631</td>\n",
       "      <td>...</td>\n",
       "      <td>0.793890</td>\n",
       "      <td>-0.516783</td>\n",
       "      <td>-0.372835</td>\n",
       "      <td>-0.721481</td>\n",
       "      <td>-0.136324</td>\n",
       "      <td>-0.285114</td>\n",
       "      <td>-0.166992</td>\n",
       "      <td>-0.352336</td>\n",
       "      <td>-0.199985</td>\n",
       "      <td>-0.323505</td>\n",
       "    </tr>\n",
       "    <tr>\n",
       "      <th>1</th>\n",
       "      <td>0.109941</td>\n",
       "      <td>0.114370</td>\n",
       "      <td>0.260207</td>\n",
       "      <td>-0.204787</td>\n",
       "      <td>-0.033026</td>\n",
       "      <td>-0.309398</td>\n",
       "      <td>-0.127483</td>\n",
       "      <td>-0.016349</td>\n",
       "      <td>-0.269928</td>\n",
       "      <td>-0.107301</td>\n",
       "      <td>...</td>\n",
       "      <td>0.345343</td>\n",
       "      <td>-0.026560</td>\n",
       "      <td>-0.332942</td>\n",
       "      <td>-0.490678</td>\n",
       "      <td>-0.065640</td>\n",
       "      <td>0.132676</td>\n",
       "      <td>-0.239566</td>\n",
       "      <td>-0.350931</td>\n",
       "      <td>-0.200073</td>\n",
       "      <td>-0.161932</td>\n",
       "    </tr>\n",
       "    <tr>\n",
       "      <th>2</th>\n",
       "      <td>-0.116622</td>\n",
       "      <td>-0.030876</td>\n",
       "      <td>0.138120</td>\n",
       "      <td>0.278028</td>\n",
       "      <td>-0.150184</td>\n",
       "      <td>-0.749703</td>\n",
       "      <td>-0.204092</td>\n",
       "      <td>0.303191</td>\n",
       "      <td>-0.063505</td>\n",
       "      <td>-0.260101</td>\n",
       "      <td>...</td>\n",
       "      <td>0.639503</td>\n",
       "      <td>-0.327163</td>\n",
       "      <td>-0.099542</td>\n",
       "      <td>-0.595329</td>\n",
       "      <td>-0.155395</td>\n",
       "      <td>0.004247</td>\n",
       "      <td>0.042324</td>\n",
       "      <td>-0.346758</td>\n",
       "      <td>-0.360339</td>\n",
       "      <td>0.166364</td>\n",
       "    </tr>\n",
       "    <tr>\n",
       "      <th>3</th>\n",
       "      <td>0.325891</td>\n",
       "      <td>0.044384</td>\n",
       "      <td>0.248671</td>\n",
       "      <td>-0.175599</td>\n",
       "      <td>0.043785</td>\n",
       "      <td>-0.314687</td>\n",
       "      <td>-0.118714</td>\n",
       "      <td>0.006751</td>\n",
       "      <td>-0.285527</td>\n",
       "      <td>-0.056257</td>\n",
       "      <td>...</td>\n",
       "      <td>0.402996</td>\n",
       "      <td>-0.016822</td>\n",
       "      <td>-0.172614</td>\n",
       "      <td>-0.541016</td>\n",
       "      <td>-0.090544</td>\n",
       "      <td>0.245925</td>\n",
       "      <td>-0.301373</td>\n",
       "      <td>-0.384895</td>\n",
       "      <td>-0.212159</td>\n",
       "      <td>-0.149183</td>\n",
       "    </tr>\n",
       "    <tr>\n",
       "      <th>4</th>\n",
       "      <td>-0.173682</td>\n",
       "      <td>0.297153</td>\n",
       "      <td>0.392437</td>\n",
       "      <td>-0.150563</td>\n",
       "      <td>0.015349</td>\n",
       "      <td>-0.564219</td>\n",
       "      <td>-0.360578</td>\n",
       "      <td>0.125311</td>\n",
       "      <td>-0.350296</td>\n",
       "      <td>0.155917</td>\n",
       "      <td>...</td>\n",
       "      <td>0.506387</td>\n",
       "      <td>-0.490707</td>\n",
       "      <td>-0.081230</td>\n",
       "      <td>-0.584529</td>\n",
       "      <td>-0.030725</td>\n",
       "      <td>0.037573</td>\n",
       "      <td>0.074391</td>\n",
       "      <td>-0.320740</td>\n",
       "      <td>-0.388316</td>\n",
       "      <td>-0.318250</td>\n",
       "    </tr>\n",
       "  </tbody>\n",
       "</table>\n",
       "<p>5 rows × 64 columns</p>\n",
       "</div>"
      ],
      "text/plain": [
       "         0         1         2         3         4         5         6   \\\n",
       "0 -0.141577  0.422342  0.741319  0.062844 -0.414088 -0.755713 -0.444874   \n",
       "1  0.109941  0.114370  0.260207 -0.204787 -0.033026 -0.309398 -0.127483   \n",
       "2 -0.116622 -0.030876  0.138120  0.278028 -0.150184 -0.749703 -0.204092   \n",
       "3  0.325891  0.044384  0.248671 -0.175599  0.043785 -0.314687 -0.118714   \n",
       "4 -0.173682  0.297153  0.392437 -0.150563  0.015349 -0.564219 -0.360578   \n",
       "\n",
       "         7         8         9   ...        54        55        56        57  \\\n",
       "0  0.453469 -0.451458  0.068631  ...  0.793890 -0.516783 -0.372835 -0.721481   \n",
       "1 -0.016349 -0.269928 -0.107301  ...  0.345343 -0.026560 -0.332942 -0.490678   \n",
       "2  0.303191 -0.063505 -0.260101  ...  0.639503 -0.327163 -0.099542 -0.595329   \n",
       "3  0.006751 -0.285527 -0.056257  ...  0.402996 -0.016822 -0.172614 -0.541016   \n",
       "4  0.125311 -0.350296  0.155917  ...  0.506387 -0.490707 -0.081230 -0.584529   \n",
       "\n",
       "         58        59        60        61        62        63  \n",
       "0 -0.136324 -0.285114 -0.166992 -0.352336 -0.199985 -0.323505  \n",
       "1 -0.065640  0.132676 -0.239566 -0.350931 -0.200073 -0.161932  \n",
       "2 -0.155395  0.004247  0.042324 -0.346758 -0.360339  0.166364  \n",
       "3 -0.090544  0.245925 -0.301373 -0.384895 -0.212159 -0.149183  \n",
       "4 -0.030725  0.037573  0.074391 -0.320740 -0.388316 -0.318250  \n",
       "\n",
       "[5 rows x 64 columns]"
      ]
     },
     "execution_count": 75,
     "metadata": {},
     "output_type": "execute_result"
    }
   ],
   "source": [
    "embedding_df = pd.DataFrame()\n",
    "for i in node_str:\n",
    "    t1 = pd.DataFrame(model.wv.get_vector(i)).T \n",
    "    embedding_df = embedding_df.append(t1)\n",
    "    embedding_df = embedding_df.reset_index(drop=True)\n",
    "embedding_df.head()"
   ]
  },
  {
   "cell_type": "code",
   "execution_count": 79,
   "metadata": {},
   "outputs": [],
   "source": [
    "embedding_df_ = pd.DataFrame(cosine_similarity(embedding_df))"
   ]
  },
  {
   "cell_type": "code",
   "execution_count": 80,
   "metadata": {},
   "outputs": [
    {
     "data": {
      "text/html": [
       "<div>\n",
       "<style scoped>\n",
       "    .dataframe tbody tr th:only-of-type {\n",
       "        vertical-align: middle;\n",
       "    }\n",
       "\n",
       "    .dataframe tbody tr th {\n",
       "        vertical-align: top;\n",
       "    }\n",
       "\n",
       "    .dataframe thead th {\n",
       "        text-align: right;\n",
       "    }\n",
       "</style>\n",
       "<table border=\"1\" class=\"dataframe\">\n",
       "  <thead>\n",
       "    <tr style=\"text-align: right;\">\n",
       "      <th></th>\n",
       "      <th>pca1</th>\n",
       "      <th>pca2</th>\n",
       "    </tr>\n",
       "  </thead>\n",
       "  <tbody>\n",
       "    <tr>\n",
       "      <th>0</th>\n",
       "      <td>-1.196518</td>\n",
       "      <td>-0.870500</td>\n",
       "    </tr>\n",
       "    <tr>\n",
       "      <th>1</th>\n",
       "      <td>-2.407748</td>\n",
       "      <td>-0.189391</td>\n",
       "    </tr>\n",
       "    <tr>\n",
       "      <th>2</th>\n",
       "      <td>-1.905012</td>\n",
       "      <td>-0.764189</td>\n",
       "    </tr>\n",
       "    <tr>\n",
       "      <th>3</th>\n",
       "      <td>-3.250059</td>\n",
       "      <td>-0.051262</td>\n",
       "    </tr>\n",
       "    <tr>\n",
       "      <th>4</th>\n",
       "      <td>-1.866975</td>\n",
       "      <td>-0.381853</td>\n",
       "    </tr>\n",
       "  </tbody>\n",
       "</table>\n",
       "</div>"
      ],
      "text/plain": [
       "       pca1      pca2\n",
       "0 -1.196518 -0.870500\n",
       "1 -2.407748 -0.189391\n",
       "2 -1.905012 -0.764189\n",
       "3 -3.250059 -0.051262\n",
       "4 -1.866975 -0.381853"
      ]
     },
     "execution_count": 80,
     "metadata": {},
     "output_type": "execute_result"
    }
   ],
   "source": [
    "from sklearn.decomposition import PCA\n",
    "pcm = PCA(n_components=2)\n",
    "principal_ = pcm.fit_transform(embedding_df_)\n",
    "principal_df = pd.DataFrame(data=principal_,columns=[\"pca1\",\"pca2\"])\n",
    "principal_df.head()"
   ]
  },
  {
   "cell_type": "code",
   "execution_count": null,
   "metadata": {},
   "outputs": [],
   "source": []
  }
 ],
 "metadata": {
  "kernelspec": {
   "display_name": "test_env",
   "language": "python",
   "name": "python3"
  },
  "language_info": {
   "codemirror_mode": {
    "name": "ipython",
    "version": 3
   },
   "file_extension": ".py",
   "mimetype": "text/x-python",
   "name": "python",
   "nbconvert_exporter": "python",
   "pygments_lexer": "ipython3",
   "version": "3.7.16"
  },
  "orig_nbformat": 4
 },
 "nbformat": 4,
 "nbformat_minor": 2
}
